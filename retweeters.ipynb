{
 "cells": [
  {
   "cell_type": "code",
   "execution_count": 1,
   "metadata": {},
   "outputs": [],
   "source": [
    "import time \n",
    "import datetime\n",
    "import numpy as np\n",
    "import pandas as pd\n",
    "import tweepy\n",
    "from local_config import *\n",
    "\n",
    "from pymongo import MongoClient\n",
    "import json"
   ]
  },
  {
   "cell_type": "code",
   "execution_count": 2,
   "metadata": {},
   "outputs": [],
   "source": [
    "def twitter_init():\n",
    "    # assign the values accordingly \n",
    "    consumer_key = cons_tok \n",
    "    consumer_secret = cons_sec \n",
    "    access_token = app_tok \n",
    "    access_token_secret = app_sec\n",
    "      \n",
    "    # authorization of consumer key and consumer secret \n",
    "    auth = tweepy.OAuthHandler(consumer_key, consumer_secret) \n",
    "      \n",
    "    # set access to user's access key and access secret  \n",
    "    auth.set_access_token(access_token, access_token_secret) \n",
    "      \n",
    "    # calling the api  \n",
    "    api = tweepy.API(auth,wait_on_rate_limit=True,wait_on_rate_limit_notify=True)\n",
    "    \n",
    "    return api"
   ]
  },
  {
   "cell_type": "code",
   "execution_count": 3,
   "metadata": {},
   "outputs": [],
   "source": [
    "list1 = ['enter custom search list']"
   ]
  },
  {
   "cell_type": "code",
   "execution_count": 6,
   "metadata": {},
   "outputs": [
    {
     "name": "stderr",
     "output_type": "stream",
     "text": [
      "Rate limit reached. Sleeping for: 866\n",
      "Rate limit reached. Sleeping for: 866\n",
      "Rate limit reached. Sleeping for: 865\n",
      "Rate limit reached. Sleeping for: 865\n",
      "Rate limit reached. Sleeping for: 865\n",
      "Rate limit reached. Sleeping for: 866\n",
      "Rate limit reached. Sleeping for: 867\n",
      "Rate limit reached. Sleeping for: 865\n",
      "Rate limit reached. Sleeping for: 865\n",
      "Rate limit reached. Sleeping for: 865\n",
      "Rate limit reached. Sleeping for: 866\n",
      "Rate limit reached. Sleeping for: 865\n",
      "Rate limit reached. Sleeping for: 865\n"
     ]
    }
   ],
   "source": [
    "#get tweet id for list itmes and search for retweeters on the given tweet\n",
    "\n",
    "api = twitter_init()\n",
    "\n",
    "users = []\n",
    "\n",
    "for rtw in tweetid:\n",
    "    try:\n",
    "        retweets_list = api.retweeters(rtw) \n",
    "\n",
    "        for retweet in retweets_list:\n",
    "            users.append(retweet)\n",
    "    except:\n",
    "        continue\n"
   ]
  },
  {
   "cell_type": "code",
   "execution_count": 11,
   "metadata": {},
   "outputs": [],
   "source": [
    "# save retweeter list\n",
    "\n",
    "users = list(set(users))\n",
    "u = {\n",
    "    \"candidate\":i,\n",
    "    \"followers\":users\n",
    "}\n",
    "n_u = pd.DataFrame(u)\n",
    "n_u.to_excel(r'followers_of_'+i+'.xlsx',index = False)"
   ]
  },
  {
   "cell_type": "code",
   "execution_count": null,
   "metadata": {},
   "outputs": [],
   "source": []
  }
 ],
 "metadata": {
  "kernelspec": {
   "display_name": "Python 3",
   "language": "python",
   "name": "python3"
  },
  "language_info": {
   "codemirror_mode": {
    "name": "ipython",
    "version": 3
   },
   "file_extension": ".py",
   "mimetype": "text/x-python",
   "name": "python",
   "nbconvert_exporter": "python",
   "pygments_lexer": "ipython3",
   "version": "3.8.5"
  }
 },
 "nbformat": 4,
 "nbformat_minor": 4
}
