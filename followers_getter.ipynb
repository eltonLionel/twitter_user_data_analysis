{
 "cells": [
  {
   "cell_type": "code",
   "execution_count": 1,
   "metadata": {},
   "outputs": [],
   "source": [
    "import time \n",
    "import datetime\n",
    "import numpy as np\n",
    "import pandas as pd\n",
    "import tweepy\n",
    "from local_config import *\n",
    "\n",
    "# assign the values accordingly \n",
    "consumer_key = cons_tok \n",
    "consumer_secret = cons_sec \n",
    "access_token = app_tok \n",
    "access_token_secret = app_sec\n",
    "  \n",
    "# authorization of consumer key and consumer secret \n",
    "auth = tweepy.OAuthHandler(consumer_key, consumer_secret) \n",
    "  \n",
    "# set access to user's access key and access secret  \n",
    "auth.set_access_token(access_token, access_token_secret) \n",
    "  \n",
    "# calling the api  \n",
    "api = tweepy.API(auth,wait_on_rate_limit=True,wait_on_rate_limit_notify=True)"
   ]
  },
  {
   "cell_type": "code",
   "execution_count": 2,
   "metadata": {},
   "outputs": [],
   "source": [
    "list1 = ['enter list of hashtags or mentions to search for']"
   ]
  },
  {
   "cell_type": "code",
   "execution_count": 3,
   "metadata": {},
   "outputs": [],
   "source": [
    "from pymongo import MongoClient\n",
    "import json\n",
    "\n",
    "client = MongoClient('insert your mongo db url')\n",
    "db = client.tweepydb"
   ]
  },
  {
   "cell_type": "code",
   "execution_count": 4,
   "metadata": {},
   "outputs": [],
   "source": [
    "#Below function could be used to make lookup requests for ids 100 at a time leading to 18K lookups in each 15 minute window\n",
    "def get_usernames(userids, api):\n",
    "    fullusers = []\n",
    "    u_count = len(userids)\n",
    "    try:\n",
    "        for i in range(int(u_count/100) + 1):            \n",
    "            end_loc = min((i + 1) * 100, u_count)\n",
    "            fullusers.extend(\n",
    "                api.lookup_users(user_ids=userids[i * 100:end_loc])                \n",
    "            )\n",
    "        return fullusers\n",
    "    except:\n",
    "        import traceback\n",
    "        traceback.print_exc()\n",
    "        print ('Something went wrong, quitting...')"
   ]
  },
  {
   "cell_type": "code",
   "execution_count": 5,
   "metadata": {},
   "outputs": [],
   "source": [
    "dtfm = []\n",
    "\n",
    "candidate = list1[0]\n",
    "excel = pd.read_excel('followers_of_'+candidate+'.xlsx')\n",
    "\n",
    "followerids =list(excel['followers'])\n",
    "\n",
    "#Calling the function below with the list of followeids and tweepy api connection details\n",
    "fullusers = get_usernames(followerids,api)\n",
    "\n",
    "#create dataframe\n",
    "\n",
    "for follower in fullusers:\n",
    "    fw = follower._json\n",
    "    fw['candidate'] = candidate\n",
    "    dtfm.append(fw)\n",
    "    db.followers.insert_one(fw)"
   ]
  },
  {
   "cell_type": "code",
   "execution_count": 5,
   "metadata": {},
   "outputs": [
    {
     "data": {
      "text/plain": [
       "<pymongo.results.DeleteResult at 0x26f04a6b248>"
      ]
     },
     "execution_count": 5,
     "metadata": {},
     "output_type": "execute_result"
    }
   ],
   "source": [
    "db.followers.delete_many({'candidate':{'$ne':''}})"
   ]
  },
  {
   "cell_type": "code",
   "execution_count": 10,
   "metadata": {},
   "outputs": [],
   "source": [
    "new_df.to_excel('full_followers'+candidate+'.xlsx')"
   ]
  },
  {
   "cell_type": "code",
   "execution_count": null,
   "metadata": {},
   "outputs": [],
   "source": []
  }
 ],
 "metadata": {
  "kernelspec": {
   "display_name": "Python 3",
   "language": "python",
   "name": "python3"
  },
  "language_info": {
   "codemirror_mode": {
    "name": "ipython",
    "version": 3
   },
   "file_extension": ".py",
   "mimetype": "text/x-python",
   "name": "python",
   "nbconvert_exporter": "python",
   "pygments_lexer": "ipython3",
   "version": "3.8.5"
  }
 },
 "nbformat": 4,
 "nbformat_minor": 4
}
